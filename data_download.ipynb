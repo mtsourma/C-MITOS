{
 "cells": [
  {
   "cell_type": "code",
   "execution_count": 20,
   "metadata": {},
   "outputs": [
    {
     "name": "stdout",
     "output_type": "stream",
     "text": [
      "Collecting mysql-connector"
     ]
    },
    {
     "name": "stderr",
     "output_type": "stream",
     "text": [
      "\n",
      "[notice] A new release of pip is available: 23.3.2 -> 24.0"
     ]
    },
    {
     "name": "stdout",
     "output_type": "stream",
     "text": [
      "\n"
     ]
    },
    {
     "name": "stderr",
     "output_type": "stream",
     "text": [
      "\n"
     ]
    },
    {
     "name": "stdout",
     "output_type": "stream",
     "text": [
      "  Downloading mysql-connector-2.2.9.tar.gz (11.9 MB)"
     ]
    },
    {
     "name": "stderr",
     "output_type": "stream",
     "text": [
      "[notice] To update, run: python.exe -m pip install --upgrade pip"
     ]
    },
    {
     "name": "stdout",
     "output_type": "stream",
     "text": [
      "\n"
     ]
    },
    {
     "name": "stderr",
     "output_type": "stream",
     "text": [
      "\n"
     ]
    },
    {
     "name": "stdout",
     "output_type": "stream",
     "text": [
      "     ---------------------------------------- 0.0/11.9 MB ? eta -:--:--\n",
      "     ---------------------------------------- 0.1/11.9 MB 2.2 MB/s eta 0:00:06\n",
      "      --------------------------------------- 0.2/11.9 MB 3.8 MB/s eta 0:00:04\n",
      "     - -------------------------------------- 0.5/11.9 MB 4.2 MB/s eta 0:00:03\n",
      "     -- ------------------------------------- 0.6/11.9 MB 3.7 MB/s eta 0:00:04\n",
      "     --- ------------------------------------ 0.9/11.9 MB 4.3 MB/s eta 0:00:03\n",
      "     --- ------------------------------------ 1.2/11.9 MB 4.3 MB/s eta 0:00:03\n",
      "     ----- ---------------------------------- 1.5/11.9 MB 4.7 MB/s eta 0:00:03\n",
      "     ------ --------------------------------- 1.9/11.9 MB 4.9 MB/s eta 0:00:03\n",
      "     ------- -------------------------------- 2.2/11.9 MB 5.1 MB/s eta 0:00:02\n",
      "     -------- ------------------------------- 2.5/11.9 MB 5.5 MB/s eta 0:00:02\n",
      "     --------- ------------------------------ 2.8/11.9 MB 5.6 MB/s eta 0:00:02\n",
      "     ---------- ----------------------------- 3.2/11.9 MB 5.7 MB/s eta 0:00:02\n",
      "     ----------- ---------------------------- 3.5/11.9 MB 5.8 MB/s eta 0:00:02\n",
      "     ------------- -------------------------- 4.0/11.9 MB 6.0 MB/s eta 0:00:02\n",
      "     ------------- -------------------------- 4.1/11.9 MB 5.9 MB/s eta 0:00:02\n",
      "     -------------- ------------------------- 4.2/11.9 MB 5.8 MB/s eta 0:00:02\n",
      "     --------------- ------------------------ 4.5/11.9 MB 5.4 MB/s eta 0:00:02\n",
      "     ---------------- ----------------------- 4.8/11.9 MB 5.5 MB/s eta 0:00:02\n",
      "     ---------------- ----------------------- 4.9/11.9 MB 5.3 MB/s eta 0:00:02\n",
      "     ----------------- ---------------------- 5.1/11.9 MB 5.2 MB/s eta 0:00:02\n",
      "     ------------------ --------------------- 5.4/11.9 MB 5.3 MB/s eta 0:00:02\n",
      "     ------------------- -------------------- 5.7/11.9 MB 5.4 MB/s eta 0:00:02\n"
     ]
    },
    {
     "name": "stdout",
     "output_type": "stream",
     "text": [
      "     -------------------- ------------------- 6.1/11.9 MB 5.5 MB/s eta 0:00:02\n",
      "     --------------------- ------------------ 6.5/11.9 MB 5.6 MB/s eta 0:00:01\n",
      "     ---------------------- ----------------- 6.8/11.9 MB 5.6 MB/s eta 0:00:01\n",
      "     ------------------------ --------------- 7.2/11.9 MB 5.8 MB/s eta 0:00:01\n",
      "     ------------------------- -------------- 7.6/11.9 MB 5.9 MB/s eta 0:00:01\n",
      "     --------------------------- ------------ 8.2/11.9 MB 6.0 MB/s eta 0:00:01\n",
      "     ---------------------------- ----------- 8.5/11.9 MB 6.0 MB/s eta 0:00:01\n",
      "     ----------------------------- ---------- 8.9/11.9 MB 6.2 MB/s eta 0:00:01\n",
      "     ------------------------------- -------- 9.3/11.9 MB 6.2 MB/s eta 0:00:01\n",
      "     -------------------------------- ------- 9.7/11.9 MB 6.3 MB/s eta 0:00:01\n",
      "     ---------------------------------- ----- 10.2/11.9 MB 6.4 MB/s eta 0:00:01\n",
      "     ----------------------------------- ---- 10.5/11.9 MB 6.7 MB/s eta 0:00:01\n",
      "     ------------------------------------ --- 10.9/11.9 MB 6.9 MB/s eta 0:00:01\n",
      "     ------------------------------------- -- 11.2/11.9 MB 6.8 MB/s eta 0:00:01\n",
      "     ---------------------------------------  11.7/11.9 MB 7.0 MB/s eta 0:00:01\n",
      "     ---------------------------------------- 11.9/11.9 MB 7.0 MB/s eta 0:00:00\n",
      "  Preparing metadata (setup.py): started\n",
      "  Preparing metadata (setup.py): finished with status 'done'\n",
      "Building wheels for collected packages: mysql-connector\n",
      "  Building wheel for mysql-connector (setup.py): started\n",
      "  Building wheel for mysql-connector (setup.py): finished with status 'done'\n",
      "  Created wheel for mysql-connector: filename=mysql_connector-2.2.9-cp38-cp38-win_amd64.whl size=247958 sha256=c28f56458b48a29e89bb42ed3f357087935757fb8cea6895887923fab5461fa9\n",
      "  Stored in directory: c:\\users\\kapsa\\appdata\\local\\pip\\cache\\wheels\\57\\e4\\98\\5feafb5c393dd2540e44b064a6f95832990d543e5b4f53ea8f\n",
      "Successfully built mysql-connector\n",
      "Installing collected packages: mysql-connector\n",
      "Successfully installed mysql-connector-2.2.9\n"
     ]
    }
   ],
   "source": [
    "!pip install mysql-connector"
   ]
  },
  {
   "cell_type": "code",
   "execution_count": 26,
   "metadata": {},
   "outputs": [
    {
     "name": "stdout",
     "output_type": "stream",
     "text": [
      "Collecting ruamel.yaml==0.17.4\n",
      "  Downloading ruamel.yaml-0.17.4-py3-none-any.whl (101 kB)\n",
      "     ---------------------------------------- 0.0/101.9 kB ? eta -:--:--\n",
      "     ----------- ------------------------- 30.7/101.9 kB 660.6 kB/s eta 0:00:01\n",
      "     -------------------------------------- 101.9/101.9 kB 1.2 MB/s eta 0:00:00\n",
      "Installing collected packages: ruamel.yaml\n",
      "  Attempting uninstall: ruamel.yaml\n",
      "    Found existing installation: ruamel.yaml 0.17.21\n",
      "    Uninstalling ruamel.yaml-0.17.21:\n",
      "      Successfully uninstalled ruamel.yaml-0.17.21\n",
      "Successfully installed ruamel.yaml-0.17.4\n"
     ]
    }
   ],
   "source": [
    "! pip install ruamel.yaml==0.17.4"
   ]
  },
  {
   "cell_type": "code",
   "execution_count": 23,
   "metadata": {},
   "outputs": [
    {
     "name": "stdout",
     "output_type": "stream",
     "text": [
      "A connection object has been created.\n"
     ]
    }
   ],
   "source": [
    "from mysql.connector import connect\n",
    " \n",
    "# define a connection object\n",
    "conn = connect(\n",
    "      user = 'root',\n",
    "      password = '',\n",
    "      host = 'localhost',\n",
    "      database = 'rasa_mitos_chatbot')\n",
    " \n",
    "print('A connection object has been created.')\n",
    " \n",
    "# close the database connection\n",
    "# conn.close()"
   ]
  },
  {
   "cell_type": "code",
   "execution_count": 27,
   "metadata": {},
   "outputs": [
    {
     "name": "stderr",
     "output_type": "stream",
     "text": [
      "\n",
      "[notice] A new release of pip is available: 23.3.2 -> 24.0"
     ]
    },
    {
     "name": "stdout",
     "output_type": "stream",
     "text": [
      "Collecting pandas"
     ]
    },
    {
     "name": "stderr",
     "output_type": "stream",
     "text": [
      "\n",
      "[notice] To update, run: python.exe -m pip install --upgrade pip"
     ]
    },
    {
     "name": "stdout",
     "output_type": "stream",
     "text": [
      "\n",
      "  Downloading pandas-2.0.3-cp38-cp38-win_amd64.whl.metadata (18 kB)"
     ]
    },
    {
     "name": "stderr",
     "output_type": "stream",
     "text": [
      "\n"
     ]
    },
    {
     "name": "stdout",
     "output_type": "stream",
     "text": [
      "\n",
      "Requirement already satisfied: python-dateutil>=2.8.2 in c:\\users\\kapsa\\anaconda3\\envs\\rasa\\lib\\site-packages (from pandas) (2.8.2)\n",
      "Requirement already satisfied: pytz>=2020.1 in c:\\users\\kapsa\\anaconda3\\envs\\rasa\\lib\\site-packages (from pandas) (2022.7.1)\n",
      "Requirement already satisfied: tzdata>=2022.1 in c:\\users\\kapsa\\anaconda3\\envs\\rasa\\lib\\site-packages (from pandas) (2023.4)\n",
      "Requirement already satisfied: numpy>=1.20.3 in c:\\users\\kapsa\\anaconda3\\envs\\rasa\\lib\\site-packages (from pandas) (1.23.5)\n",
      "Requirement already satisfied: six>=1.5 in c:\\users\\kapsa\\anaconda3\\envs\\rasa\\lib\\site-packages (from python-dateutil>=2.8.2->pandas) (1.16.0)\n",
      "Downloading pandas-2.0.3-cp38-cp38-win_amd64.whl (10.8 MB)\n",
      "   ---------------------------------------- 0.0/10.8 MB ? eta -:--:--\n",
      "   ---------------------------------------- 0.0/10.8 MB ? eta -:--:--\n",
      "    --------------------------------------- 0.1/10.8 MB 2.1 MB/s eta 0:00:06\n",
      "   - -------------------------------------- 0.3/10.8 MB 2.9 MB/s eta 0:00:04\n",
      "   -- ------------------------------------- 0.6/10.8 MB 3.6 MB/s eta 0:00:03\n",
      "   -- ------------------------------------- 0.8/10.8 MB 3.4 MB/s eta 0:00:03\n",
      "   --- ------------------------------------ 1.0/10.8 MB 3.7 MB/s eta 0:00:03\n",
      "   ---- ----------------------------------- 1.2/10.8 MB 3.9 MB/s eta 0:00:03\n",
      "   ----- ---------------------------------- 1.6/10.8 MB 4.3 MB/s eta 0:00:03\n",
      "   ------- -------------------------------- 1.9/10.8 MB 4.6 MB/s eta 0:00:02\n",
      "   ------- -------------------------------- 2.0/10.8 MB 4.6 MB/s eta 0:00:02\n",
      "   -------- ------------------------------- 2.3/10.8 MB 4.4 MB/s eta 0:00:02\n",
      "   --------- ------------------------------ 2.5/10.8 MB 4.5 MB/s eta 0:00:02\n",
      "   ---------- ----------------------------- 2.9/10.8 MB 4.8 MB/s eta 0:00:02\n",
      "   ------------ --------------------------- 3.3/10.8 MB 5.1 MB/s eta 0:00:02\n",
      "   ------------- -------------------------- 3.6/10.8 MB 5.1 MB/s eta 0:00:02\n",
      "   ------------- -------------------------- 3.6/10.8 MB 4.9 MB/s eta 0:00:02\n",
      "   -------------- ------------------------- 3.9/10.8 MB 4.9 MB/s eta 0:00:02\n",
      "   --------------- ------------------------ 4.3/10.8 MB 5.2 MB/s eta 0:00:02\n",
      "   ---------------- ----------------------- 4.5/10.8 MB 5.1 MB/s eta 0:00:02\n",
      "   ------------------ --------------------- 4.9/10.8 MB 5.3 MB/s eta 0:00:02\n",
      "   ------------------ --------------------- 4.9/10.8 MB 5.1 MB/s eta 0:00:02\n",
      "   ------------------- -------------------- 5.3/10.8 MB 5.1 MB/s eta 0:00:02\n",
      "   -------------------- ------------------- 5.5/10.8 MB 5.0 MB/s eta 0:00:02\n",
      "   -------------------- ------------------- 5.6/10.8 MB 5.0 MB/s eta 0:00:02\n",
      "   --------------------- ------------------ 5.9/10.8 MB 5.0 MB/s eta 0:00:01\n",
      "   ----------------------- ---------------- 6.3/10.8 MB 5.0 MB/s eta 0:00:01\n",
      "   ----------------------- ---------------- 6.4/10.8 MB 5.0 MB/s eta 0:00:01\n",
      "   ----------------------- ---------------- 6.5/10.8 MB 4.9 MB/s eta 0:00:01\n",
      "   ------------------------- -------------- 6.8/10.8 MB 4.9 MB/s eta 0:00:01\n",
      "   -------------------------- ------------- 7.2/10.8 MB 5.0 MB/s eta 0:00:01\n",
      "   --------------------------- ------------ 7.3/10.8 MB 4.9 MB/s eta 0:00:01\n",
      "   --------------------------- ------------ 7.4/10.8 MB 4.9 MB/s eta 0:00:01\n",
      "   ---------------------------- ----------- 7.6/10.8 MB 4.8 MB/s eta 0:00:01\n",
      "   ----------------------------- ---------- 7.8/10.8 MB 4.8 MB/s eta 0:00:01\n",
      "   ----------------------------- ---------- 7.9/10.8 MB 4.8 MB/s eta 0:00:01\n",
      "   ------------------------------ --------- 8.1/10.8 MB 4.8 MB/s eta 0:00:01"
     ]
    },
    {
     "name": "stdout",
     "output_type": "stream",
     "text": [
      "\n",
      "   ------------------------------- -------- 8.4/10.8 MB 4.8 MB/s eta 0:00:01\n",
      "   -------------------------------- ------- 8.8/10.8 MB 4.8 MB/s eta 0:00:01\n",
      "   --------------------------------- ------ 9.0/10.8 MB 4.8 MB/s eta 0:00:01\n",
      "   ---------------------------------- ----- 9.3/10.8 MB 4.8 MB/s eta 0:00:01\n",
      "   ----------------------------------- ---- 9.7/10.8 MB 4.9 MB/s eta 0:00:01\n",
      "   ------------------------------------- -- 10.0/10.8 MB 5.0 MB/s eta 0:00:01\n",
      "   -------------------------------------- - 10.3/10.8 MB 5.0 MB/s eta 0:00:01\n",
      "   -------------------------------------- - 10.3/10.8 MB 5.0 MB/s eta 0:00:01\n",
      "   -------------------------------------- - 10.3/10.8 MB 4.9 MB/s eta 0:00:01\n",
      "   ---------------------------------------  10.6/10.8 MB 4.9 MB/s eta 0:00:01\n",
      "   ---------------------------------------- 10.8/10.8 MB 4.9 MB/s eta 0:00:00\n",
      "Installing collected packages: pandas\n",
      "Successfully installed pandas-2.0.3\n"
     ]
    }
   ],
   "source": [
    "! python -m pip install pandas\n"
   ]
  },
  {
   "cell_type": "code",
   "execution_count": 31,
   "metadata": {},
   "outputs": [
    {
     "name": "stdout",
     "output_type": "stream",
     "text": [
      "        id                                           title_el  \\\n",
      "0   104857  Άδεια Λιανικής Πώλησης Κτηνιατρικών Φαρμακευτι...   \n",
      "1   106576                          Ληξιαρχική πράξη γέννησης   \n",
      "2   135510                       Ασφαλιστική ενημερότητα ΕΛΓΑ   \n",
      "3   140585                                 Ελαιοκομικό Μητρώο   \n",
      "4   147149  Εγγραφή σε Επαγγελματική Σχολή (ΕΠΑΣ) της ΔΥΠΑ...   \n",
      "..     ...                                                ...   \n",
      "95  977354                         Αντίγραφο Ποινικού Μητρώου   \n",
      "96  977567      Αίτηση αλλαγής στοιχείων ταυτότητας αλλοδαπών   \n",
      "97  991597  Έγκριση χρήσης Ζωικών Υποπροϊόντων (ΖΥΠ) και α...   \n",
      "98  991981  Ειδικό Δελτίο Ταυτότητας Ομογενούς (ΕΔΤΟ) από ...   \n",
      "99  996278                                Αναφύτευση Αμπελώνα   \n",
      "\n",
      "                                             title_en  \n",
      "0   Authorisation for the retail sale of veterinar...  \n",
      "1                                                   0  \n",
      "2                                                   0  \n",
      "3                                                   0  \n",
      "4                                                   0  \n",
      "..                                                ...  \n",
      "95                            Copy of Criminal Record  \n",
      "96                                                  0  \n",
      "97                                                  0  \n",
      "98  Special Identity Card for Expatriates from USS...  \n",
      "99                                                  0  \n",
      "\n",
      "[100 rows x 3 columns]\n"
     ]
    }
   ],
   "source": [
    "import pandas as pd\n",
    "cursor = conn.cursor()\n",
    "query = 'SELECT * FROM domains'\n",
    "cursor.execute(query)\n",
    "result = cursor.fetchall()\n",
    "\n",
    "# print the results in each row\n",
    "df = pd.DataFrame(result, columns=['id', 'title_el', 'title_en'])\n",
    "print(df)\n"
   ]
  },
  {
   "cell_type": "code",
   "execution_count": 33,
   "metadata": {},
   "outputs": [],
   "source": [
    "tmp_question = [\"Τι είναι η \", #data['data']['metadata']['process']['description']\n",
    "\"Τι είναι το \",#data['data']['metadata']['process']['description']\n",
    "\"που μπορώ να βρω την \", #data['data']['metadata']['process']['provision_org_directory'][0]\n",
    "\"τι στοιχεία χρειάζομαι για την απόκτηση \", #data['data']['metadata']['process']['description']\n",
    "\"Σε ποιους πολίτες παρέχεται \"] #data['data']['metadata']['process']['description']\n"
   ]
  },
  {
   "cell_type": "code",
   "execution_count": 44,
   "metadata": {},
   "outputs": [],
   "source": [
    "# importing the requests library\n",
    "import requests\n",
    "from rasa.shared.nlu.training_data.message import Message\n",
    "from rasa.shared.nlu.training_data.formats.rasa_yaml import RasaYAMLWriter\n",
    "from rasa.shared.nlu.training_data.training_data import TrainingData\n",
    "nlu_training_data = []\n",
    "answers = []\n",
    "# questions = []\n",
    "# api-endpoint\n",
    "for index, row in df.iterrows():\n",
    "    URL = \"https://api.digigov.grnet.gr/v1/services/\"+str(row[\"id\"])\n",
    "    r = requests.get(url = URL)\n",
    "    data = r.json()\n",
    "    intent_name = \"intent_\" + str(row[\"id\"])\n",
    "    for i in range(0,4):\n",
    "        if i == 0:\n",
    "            if 'alternative_titles' in data['data']['metadata']['process']:\n",
    "                q = tmp_question[i] + str(data['data']['metadata']['process']['alternative_titles'][0])+ \";\"\n",
    "        else: \n",
    "            q = tmp_question[i] + str(data['data']['metadata']['process']['official_title']) + \";\"\n",
    "        nlu_training_data.append(Message.build(text=q, intent=intent_name))\n",
    "    if \"provision_org_directory\" in data['data']['metadata']['process']:\n",
    "        if \"provided_to\" in data['data']['metadata']['process']:\n",
    "            if \"application_description\" in data['data']['metadata']['process']:\n",
    "                answer = str(data['data']['metadata']['process']['application_description']) +\" Χορηγείται από \" + str(data['data']['metadata']['process']['provision_org_directory'][0]).lower()+\" Χρειάζεται \" + str( data['data']['metadata']['process']['evidence_identification_type'][0]).lower()+\". Δίνεται σε \" +str(data['data']['metadata']['process']['provided_to'][0]).lower()\n",
    "            else:\n",
    "                answer = \" Χορηγείται από \" + str(data['data']['metadata']['process']['provision_org_directory'][0]).lower()+\" Χρειάζεται \" + str( data['data']['metadata']['process']['evidence_identification_type'][0]).lower()+\". Δίνεται σε \" +str(data['data']['metadata']['process']['provided_to'][0]).lower()                \n",
    "        else:\n",
    "            answer = str(data['data']['metadata']['process']['application_description']) +\" Χρειάζεται \" + str( data['data']['metadata']['process']['evidence_identification_type'][0]).lower()+\".\"\n",
    "\n",
    "    else:\n",
    "        if \"provided_to\" in data['data']['metadata']['process']:\n",
    "            if \"application_description\" in data['data']['metadata']['process']:\n",
    "                answer = str(data['data']['metadata']['process']['application_description']) +\" Χρειάζεται \" + str( data['data']['metadata']['process']['evidence_identification_type'][0]).lower()+\". Δίνεται σε \" +str(data['data']['metadata']['process']['provided_to'][0]).lower()\n",
    "            else:\n",
    "                answer = \" Χρειάζεται \" + str( data['data']['metadata']['process']['evidence_identification_type'][0]).lower()+\". Δίνεται σε \" +str(data['data']['metadata']['process']['provided_to'][0]).lower()\n",
    "        else:\n",
    "            answer = str(data['data']['metadata']['process']['application_description']) +\" Χρειάζεται \" + str( data['data']['metadata']['process']['evidence_identification_type'][0]).lower()+\".\"\n",
    "\n",
    "    answers.append({'utter_'+intent_name:{\"- text\": \"'\" + answer+\"'\"}})\n"
   ]
  },
  {
   "cell_type": "code",
   "execution_count": 36,
   "metadata": {},
   "outputs": [
    {
     "data": {
      "text/plain": [
       "False"
      ]
     },
     "execution_count": 36,
     "metadata": {},
     "output_type": "execute_result"
    }
   ],
   "source": [
    "\"provision_org_directory\" in data['data']['metadata']['process']"
   ]
  },
  {
   "cell_type": "code",
   "execution_count": null,
   "metadata": {},
   "outputs": [],
   "source": [
    "import yaml\n",
    "\n",
    "td = TrainingData(nlu_training_data)\n",
    "\n",
    "# write to a yml file\n",
    "w1 = RasaYAMLWriter()\n",
    "f = w1.dump('nlu3.yml',td)"
   ]
  },
  {
   "cell_type": "code",
   "execution_count": 48,
   "metadata": {},
   "outputs": [
    {
     "data": {
      "text/plain": [
       "[{'story': 'path intent_996278',\n",
       "  'steps': {'- intent': 'intent_104857', '- action': 'utter_intent_104857'}}]"
      ]
     },
     "execution_count": 48,
     "metadata": {},
     "output_type": "execute_result"
    }
   ],
   "source": []
  },
  {
   "cell_type": "code",
   "execution_count": null,
   "metadata": {},
   "outputs": [],
   "source": [
    "- story: path intent_104857\n",
    "  steps:\n",
    "  - intent: intent_104857\n",
    "  - action: utter_intent_104857"
   ]
  },
  {
   "cell_type": "code",
   "execution_count": 45,
   "metadata": {},
   "outputs": [],
   "source": [
    "with open('domain4.yml', 'w') as yaml_file:\n",
    "    yaml.dump(answers, yaml_file, default_flow_style=False, allow_unicode=True)"
   ]
  },
  {
   "cell_type": "code",
   "execution_count": null,
   "metadata": {},
   "outputs": [],
   "source": [
    "stories = []\n",
    "for index, row in df.iterrows():\n",
    "    intent_name = \"intent_\" + str(row[\"id\"]) \n",
    "    utter_intent_name = \"utter_intent_\" + str(row[\"id\"]) \n",
    "    stories.append({\"\":\"\", 'story':\"path \"+intent_name, \"steps\":{\"- intent\": intent_name, \"- action\": utter_intent_name}})\n",
    "stories"
   ]
  },
  {
   "cell_type": "code",
   "execution_count": 52,
   "metadata": {},
   "outputs": [],
   "source": [
    "with open('stories3.yml', 'w') as yaml_file:\n",
    "    yaml.dump(stories, yaml_file, default_flow_style=False, allow_unicode=True)"
   ]
  }
 ],
 "metadata": {
  "kernelspec": {
   "display_name": "Python 3",
   "language": "python",
   "name": "python3"
  },
  "language_info": {
   "codemirror_mode": {
    "name": "ipython",
    "version": 3
   },
   "file_extension": ".py",
   "mimetype": "text/x-python",
   "name": "python",
   "nbconvert_exporter": "python",
   "pygments_lexer": "ipython3",
   "version": "3.8.0"
  }
 },
 "nbformat": 4,
 "nbformat_minor": 2
}
